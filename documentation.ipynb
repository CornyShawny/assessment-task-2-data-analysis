{
 "cells": [
  {
   "cell_type": "markdown",
   "metadata": {},
   "source": [
    "# **Identifying and Defining**\n"
   ]
  },
  {
   "cell_type": "markdown",
   "metadata": {},
   "source": [
    "### **Choose your Data Scenario and Define your Purpose**\n",
    "**Data:** The dataset I have chosen are the stats of NBA players from 1996 to 2022\n",
    "\n",
    "**Goal:** To find out whether the height of a NBA player correlates to their average points per game\n",
    "\n",
    "**Source:** https://www.kaggle.com/datasets/justinas/nba-players-data\n",
    "\n",
    "**Access:** Yes, the dataset is publicly available and accessable online on Kaggle\n",
    "\n",
    "**Access Method:** I will access the data using .csv"
   ]
  },
  {
   "cell_type": "markdown",
   "metadata": {},
   "source": [
    "### **Functional Requirements**\n",
    "**Data Loading:** Consider aspects such as ability to load certain file types and handling errors in file loading (e.g. incorrect format, missing files).\n",
    "  * Description: The program needs to be able to load a variety of different file types like CSV and Excel, while handling errors related to incorrect formats or missing files\n",
    "  * Input: The user will provide the file path, file name, and file type, along with optional parameters for reading the file, like a delimiter for CSV files\n",
    "  * Output: The program will output a loaded DataFrame or display error messages for issues like incorrect file formats or missing files\n",
    "\n",
    "**Data Cleaning:** Does the system need to handle missing values or allow for filtering, sorting and grouping of data?\n",
    "  * Description: The program needs to manage missing values and allow for data operations like filtering, sorting, and grouping\n",
    "  * Input: The user will input a DataFrame and specify instructions for handling missing values, filtering criteria, sorting order, and grouping columns\n",
    "  * Output: The output will be a cleaned DataFrame and a summary of the cleaning operations performed, such as the number of rows dropped\n",
    "\n",
    "**Data Analysis:** What kind of statistical analysis does the system need to allow for (e.g. mean, median, mode)?\n",
    "  * Description: The system must enable various statisical analyses, including calculating the mean, median, and mode\n",
    "  * Input: Users will input a DataFrame and specify the type of analysis to be performed, such as calculating the mean of a specific column\n",
    "  * Output: The program will output the results of the analysis, such as the mean value, along with a summary of the analysis performed\n",
    "\n",
    "**Data Visualisation:** How will the data need to be visualised (e.g. Pandas dataframes / Matplotlib chart types)?\n",
    "  * Description: The program should visualise data using Pandas dataframes and Matplotlib chart types, such as bar charts and line charts\n",
    "  * Input: Users will provide a DataFrame, specify the type of visualisation (e.g., bar chart, line chart), and set parameters for the chart, including x and y axis columns, title, and labels.\n",
    "  * Output: \n",
    "\n",
    "**Data Reporting:** What output should the system include, and do we need to store the final dataset somewhere (e.g. .csv or .txt file)?\n",
    "  * Description: Describe what the program needs to do.\n",
    "  * Input: Describe what the user will input for this to happen.\n",
    "  * Output: Describe what the program will output based on the user input.\n"
   ]
  }
 ],
 "metadata": {
  "language_info": {
   "name": "python"
  }
 },
 "nbformat": 4,
 "nbformat_minor": 2
}
