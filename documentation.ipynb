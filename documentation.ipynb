{
 "cells": [
  {
   "cell_type": "markdown",
   "metadata": {},
   "source": [
    "# **Identifying and Defining**\n"
   ]
  },
  {
   "cell_type": "markdown",
   "metadata": {},
   "source": [
    "### **Choose your Data Scenario and Define your Purpose**\n",
    "**Data:** The dataset I have chosen are the stats of NBA players from 1996 to 2022\n",
    "\n",
    "**Goal:** To find out whether the height of a NBA player correlates to their average points per game\n",
    "\n",
    "**Source:** https://www.kaggle.com/datasets/justinas/nba-players-data\n",
    "\n",
    "**Access:** Yes, the dataset is publicly available and accessable online on Kaggle\n",
    "\n",
    "**Access Method:** I will access the data using .csv"
   ]
  },
  {
   "cell_type": "markdown",
   "metadata": {},
   "source": [
    "### **Functional Requirements**\n",
    "**Data Loading:** Consider aspects such as ability to load certain file types and handling errors in file loading (e.g. incorrect format, missing files).\n",
    "  * Description: The program needs to be able to load a variety of different file types like CSV and Excel, while handling errors related to incorrect formats or missing files\n",
    "  * Input: The user will provide the file path, file name, and file type, along with optional parameters for reading the file, like a delimiter for CSV files\n",
    "  * Output: The program will output a loaded DataFrame or display error messages for issues like incorrect file formats or missing files\n",
    "\n",
    "**Data Cleaning:** Does the system need to handle missing values or allow for filtering, sorting and grouping of data?\n",
    "  * Description: The program needs to manage missing values and allow for data operations like filtering, sorting, and grouping\n",
    "  * Input: The user will input a DataFrame and specify instructions for handling missing values, filtering criteria, sorting order, and grouping columns\n",
    "  * Output: The output will be a cleaned DataFrame and a summary of the cleaning operations performed, such as the number of rows dropped\n",
    "\n",
    "**Data Analysis:** What kind of statistical analysis does the system need to allow for (e.g. mean, median, mode)?\n",
    "  * Description: The system must enable various statisical analyses, including calculating the mean, median, and mode\n",
    "  * Input: Users will input a DataFrame and specify the type of analysis to be performed, such as calculating the mean of a specific column\n",
    "  * Output: The program will output the results of the analysis, such as the mean value, along with a summary of the analysis performed\n",
    "\n",
    "**Data Visualisation:** How will the data need to be visualised (e.g. Pandas dataframes / Matplotlib chart types)?\n",
    "  * Description: The program should visualise data using Pandas dataframes and Matplotlib chart types, such as bar charts and line charts\n",
    "  * Input: Users will provide a DataFrame, specify the type of visualisation (e.g., bar chart, line chart), and set parameters for the chart, including x and y axis columns, title, and labels.\n",
    "  * Output: The program will generate and display the chart on the screen, with an option to save it as an image file.\n",
    "\n",
    "**Data Reporting:** What output should the system include, and do we need to store the final dataset somewhere (e.g. .csv or .txt file)?\n",
    "  * Description: The system should generate reports that include the final dataset and offer options to save the report as a .csv or .txt file.\n",
    "  * Input: Users will input the DataFrame to be reported and choose the report format (e.g., .csv, .txt), along with any optional parameters like summary statistics.\n",
    "  * Output: The program will produce the report in the specified format and save the final dataset and report to a file.\n",
    "\n",
    "\n"
   ]
  },
  {
   "cell_type": "markdown",
   "metadata": {},
   "source": [
    "### **Use Cases**"
   ]
  },
  {
   "cell_type": "markdown",
   "metadata": {},
   "source": [
    "### **Non-Functional Requirements**\n",
    "**Usability:**\n",
    "For usability, the User Interface (UI) should be intuitive and easy to navigate, ensuring that users can perform their tasks with minimal effort. This includes clear labeling of buttons and functions, consistent layout and design, and accessible features for all users. Additionally, the UI should provide immediate feedback on user actions to confirm that inputs have been registered. A comprehensive 'README' document is also required, detailing installation steps, usage instructions, troubleshooting tips, and examples to guide users through the system's functionalities.\n",
    "\n",
    "**Reliability:**\n",
    "Regarding reliability, the system must ensure accurate and consistent performance under all expected conditions. This involves providing clear and informative error messages when issues arise, allowing users to understand and rectify problems without confusion. The system should implement mechanisms to ensure data integrity, such as validation checks and backup procedures, to prevent data loss or corruption. Regular testing and maintenance schedules should be established to identify and address potential issues promptly, ensuring the system remains dependable over time.\n"
   ]
  },
  {
   "cell_type": "markdown",
   "metadata": {},
   "source": [
    "# **Researching and Planning**"
   ]
  },
  {
   "cell_type": "markdown",
   "metadata": {},
   "source": [
    "### **Research of Chosen Issue**\n",
    "**Purpose:** The purpose of analysing this data is to see if the height of an NBA player correlates with their points scored per game, and if skill is or isn't more important than genetics.\n",
    "\n",
    "**Missing Data:** I feel it is necessary for people to conclude whether height correlates to performance (genetics vs skill).\n",
    "\n",
    "**Stakeholders:** The people that will benefit from the information include people who are tall or short, people who play basketball, and  people with high skill or good genetics.\n",
    "\n",
    "**Use:** The information obtained from the data analysis can be used by people to conclude that height does or doesn't correlate to performance (points per game), which then they  realise skill is or isn't more important than genetics.\n"
   ]
  },
  {
   "cell_type": "markdown",
   "metadata": {},
   "source": [
    "### **Privacy and Security**\n",
    "**Data Privacy of Source:** The data is NBA Players from 1996 to 2022 season found on kaggle.com. Kaggle is a public website related to coding, where you find datasets, discussions, code and learning materials as well as competitions. Kaggle and other websites/companies have responsibilities to protect user data and privacy by anonymising personal data and securing data storage.\n",
    "\n",
    "**Application Data Privacy:** My responsibilities as a data analyst is to maintain user privacy by keeping personal data secure and private. This data is identifiable, as it is available on Kaggle. If I were to push this application out to the general public, I would hide any personal information from the database.\n",
    "\n",
    "**Cyber Security:** Features that should be included to maintain cybersecurity include password systems, 2-factor authentication. There should also be a secure data storage, so data doesn't get leaked or compromised.\n",
    "\n",
    "* **User Authentication:** A security process that verifies the identity of a user who wants to access a device or network.\n",
    "* **Password Hashing:** A method of protecting passwords by converting them into a series of random characters, also known as a hash.\n",
    "* **Encryption:** The process of converting information or data into a code, especially to prevent unauthorised access.\n"
   ]
  },
  {
   "cell_type": "markdown",
   "metadata": {},
   "source": [
    "### **Data Dictionary**\n",
    "\n",
    "|Field|Datatype|Format for Display|Description|Example|Validation|\n",
    "|-----|--------|------------------|-----------|-------|----------|\n",
    "|player_name|Object|X...X|Name of player|Stephen Curry|Can be any amount of characters without numbers.|\n",
    "|-----------|------|-----|--------------|-------------|------------------------------------------------|\n",
    "|player_height|float64|NNN.NN|Height of player in cm|190.5|\n",
    "\n",
    "\n",
    "\n"
   ]
  }
 ],
 "metadata": {
  "kernelspec": {
   "display_name": "Python 3",
   "language": "python",
   "name": "python3"
  },
  "language_info": {
   "name": "python",
   "version": "3.11.0"
  }
 },
 "nbformat": 4,
 "nbformat_minor": 2
}
