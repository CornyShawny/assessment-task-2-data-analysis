{
 "cells": [
  {
   "cell_type": "markdown",
   "metadata": {},
   "source": [
    "# **Identifying and Defining**\n"
   ]
  },
  {
   "cell_type": "markdown",
   "metadata": {},
   "source": [
    "### **Choose your Data Scenario and Define your Purpose**\n",
    "**Data:** The dataset I have chosen are the stats of NBA players from 1996 to 2022\n",
    "\n",
    "**Goal:** To find out whether the height of a NBA player correlates to their average points per game\n",
    "\n",
    "**Source:** https://www.kaggle.com/datasets/justinas/nba-players-data\n",
    "\n",
    "**Access:** Yes, the dataset is publicly available and accessable online on Kaggle\n",
    "\n",
    "**Access Method:** I will access the data using .csv"
   ]
  },
  {
   "cell_type": "markdown",
   "metadata": {},
   "source": [
    "### **Functional Requirements**\n",
    "**Data Loading:** Consider aspects such as ability to load certain file types and handling errors in file loading (e.g. incorrect format, missing files).\n",
    "  * Description: Describe what the program needs to do.\n",
    "  * Input: Describe what the user will input for this to happen.\n",
    "  * Output: Describe what the program will output based on the user input.\n",
    "\n",
    "**Data Cleaning:** Does the system need to handle missing values or allow for filtering, sorting and grouping of data?\n",
    "  * Description: Describe what the program needs to do.\n",
    "  * Input: Describe what the user will input for this to happen.\n",
    "  * Output: Describe what the program will output based on the user input.\n",
    "\n",
    "**Data Analysis:** What kind of statistical analysis does the system need to allow for (e.g. mean, median, mode)?\n",
    "  * Description: Describe what the program needs to do.\n",
    "  * Input: Describe what the user will input for this to happen.\n",
    "  * Output: Describe what the program will output based on the user input.\n",
    "\n",
    "**Data Visualisation:** How will the data need to be visualised (e.g. Pandas dataframes / Matplotlib chart types)?\n",
    "  * Description: Describe what the program needs to do.\n",
    "  * Input: Describe what the user will input for this to happen.\n",
    "  * Output: Describe what the program will output based on the user input.\n",
    "\n",
    "**Data Reporting:** What output should the system include, and do we need to store the final dataset somewhere (e.g. .csv or .txt file)?\n",
    "  * Description: Describe what the program needs to do.\n",
    "  * Input: Describe what the user will input for this to happen.\n",
    "  * Output: Describe what the program will output based on the user input.\n"
   ]
  }
 ],
 "metadata": {
  "language_info": {
   "name": "python"
  }
 },
 "nbformat": 4,
 "nbformat_minor": 2
}
