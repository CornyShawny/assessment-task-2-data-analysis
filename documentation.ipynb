{
 "cells": [
  {
   "cell_type": "markdown",
   "metadata": {},
   "source": [
    "# **Identifying and Defining**\n"
   ]
  },
  {
   "cell_type": "markdown",
   "metadata": {},
   "source": [
    "### **Choose your Data Scenario and Define your Purpose**\n",
    "**Data:** The dataset I have chosen are the stats of NBA players from 1996 to 2022\n",
    "\n",
    "**Goal:** To find out whether the height of a NBA player correlates to their average points per game\n",
    "\n",
    "**Source:** https://www.kaggle.com/datasets/justinas/nba-players-data\n",
    "\n",
    "**Access:** Yes, the dataset is publicly available and accessable online on Kaggle\n",
    "\n",
    "**Access Method:** I will access the data using .csv"
   ]
  },
  {
   "cell_type": "markdown",
   "metadata": {},
   "source": [
    "### **Functional Requirements**\n",
    "**Data Loading:** Consider aspects such as ability to load certain file types and handling errors in file loading (e.g. incorrect format, missing files).\n",
    "  * Description: The program needs to be able to load a variety of different file types like CSV and Excel, while handling errors related to incorrect formats or missing files\n",
    "  * Input: The user will provide the file path, file name, and file type, along with optional parameters for reading the file, like a delimiter for CSV files\n",
    "  * Output: The program will output a loaded DataFrame or display error messages for issues like incorrect file formats or missing files\n",
    "\n",
    "**Data Cleaning:** Does the system need to handle missing values or allow for filtering, sorting and grouping of data?\n",
    "  * Description: The program needs to manage missing values and allow for data operations like filtering, sorting, and grouping\n",
    "  * Input: The user will input a DataFrame and specify instructions for handling missing values, filtering criteria, sorting order, and grouping columns\n",
    "  * Output: The output will be a cleaned DataFrame and a summary of the cleaning operations performed, such as the number of rows dropped\n",
    "\n",
    "**Data Analysis:** What kind of statistical analysis does the system need to allow for (e.g. mean, median, mode)?\n",
    "  * Description: The system must enable various statisical analyses, including calculating the mean, median, and mode\n",
    "  * Input: Users will input a DataFrame and specify the type of analysis to be performed, such as calculating the mean of a specific column\n",
    "  * Output: The program will output the results of the analysis, such as the mean value, along with a summary of the analysis performed\n",
    "\n",
    "**Data Visualisation:** How will the data need to be visualised (e.g. Pandas dataframes / Matplotlib chart types)?\n",
    "  * Description: The program should visualise data using Pandas dataframes and Matplotlib chart types, such as bar charts and line charts\n",
    "  * Input: Users will provide a DataFrame, specify the type of visualisation (e.g., bar chart, line chart), and set parameters for the chart, including x and y axis columns, title, and labels.\n",
    "  * Output: The program will generate and display the chart on the screen, with an option to save it as an image file.\n",
    "\n",
    "**Data Reporting:** What output should the system include, and do we need to store the final dataset somewhere (e.g. .csv or .txt file)?\n",
    "  * Description: The system should generate reports that include the final dataset and offer options to save the report as a .csv or .txt file.\n",
    "  * Input: Users will input the DataFrame to be reported and choose the report format (e.g., .csv, .txt), along with any optional parameters like summary statistics.\n",
    "  * Output: The program will produce the report in the specified format and save the final dataset and report to a file.\n",
    "\n",
    "\n"
   ]
  },
  {
   "cell_type": "markdown",
   "metadata": {},
   "source": [
    "### **Use Cases**\n",
    "\n",
    "#### **Data Loading**\n",
    "**Actor:** User\n",
    "\n",
    "**Goal:** To load a dataset into the system.\n",
    "\n",
    "**Preconditions:** User has a dataset file ready.\n",
    "\n",
    "**Main Flow:**\n",
    "* User places the dataset file for reading into the specified location.\n",
    "* User specifies the file path, name, and type in the system.\n",
    "* System validates the file format.\n",
    "* System loads the dataset.\n",
    "* System displays the dataset information in a DataFrame.\n",
    "\n",
    "**Postconditions:** Dataset is successfully loaded and ready for analysis.\n",
    "\n",
    "---\n",
    "#### **Data Cleaning**\n",
    "**Actor:** User\n",
    "\n",
    "**Goal:** To clean and prepare the dataset for analysis.\n",
    "\n",
    "**Preconditions:** User has a loaded dataset.\n",
    "\n",
    "**Main Flow:**\n",
    "* User specifies the DataFrame to be cleaned.\n",
    "* User provides instructions for handling missing values, filtering, sorting, and grouping data.\n",
    "* System processes the instructions for cleaning the data.\n",
    "* System applies the specified data cleaning operations.\n",
    "* System displays the cleaned DataFrame and a summary of the operations performed.\n",
    "\n",
    "**Postconditions:** Dataset is cleaned and ready for further analysis.\n",
    "\n",
    "---\n",
    "#### **Data Analysis**\n",
    "**Actor:** User\n",
    "\n",
    "**Goal:** To perform statistical analysis on the dataset.\n",
    "\n",
    "**Preconditions:** User has a cleaned dataset.\n",
    "\n",
    "**Main Flow:**\n",
    "* User selects the DataFrame for analysis.\n",
    "* User specifies the type of statistical analysis to be performed (e.g., mean, median, mode).\n",
    "* System performs the specified analysis on the dataset.\n",
    "* System calculates the results of the analysis.\n",
    "* System displays the analysis results and a summary of the operations performed.\n",
    "\n",
    "**Postconditions:** Statistical analysis is completed and results are available for review.\n",
    "\n",
    "---\n",
    "#### **Data Visualisation**\n",
    "**Actor:** User\n",
    "\n",
    "**Goal:** To visualize the data in chart form.\n",
    "\n",
    "**Preconditions:** User has a dataset ready for visualization.\n",
    "\n",
    "**Main Flow:**\n",
    "* User selects the DataFrame to be visualized.\n",
    "* User specifies the type of chart (e.g., bar chart, line chart) and sets chart parameters (e.g., x and y axis columns, title, labels).\n",
    "* System generates the specified chart based on the input parameters.\n",
    "* System displays the generated chart on the screen.\n",
    "* User optionally saves the chart as an image file.\n",
    "\n",
    "**Postconditions:** Data is visualized and optionally saved as an image file.\n",
    "\n",
    "---\n",
    "#### **Data Reporting**\n",
    "**Actor:** User\n",
    "\n",
    "**Goal:** To generate and save a report of the final dataset.\n",
    "\n",
    "**Preconditions:** User has a finalized dataset.\n",
    "\n",
    "**Main Flow:**\n",
    "* User selects the DataFrame for reporting.\n",
    "* User specifies the report format (e.g., .csv, .txt) and any optional parameters (e.g., include summary statistics).\n",
    "* System generates the report in the specified format.\n",
    "* System saves the report and final dataset to a specified location.\n",
    "* System confirms that the report has been successfully saved.\n",
    "\n",
    "**Postconditions:** Report is generated and saved in the specified format.\n",
    "\n",
    "---"
   ]
  },
  {
   "cell_type": "markdown",
   "metadata": {},
   "source": [
    "### **Non-Functional Requirements**\n",
    "**Usability:**\n",
    "For usability, the User Interface (UI) should be intuitive and easy to navigate, ensuring that users can perform their tasks with minimal effort. This includes clear labeling of buttons and functions, consistent layout and design, and accessible features for all users. Additionally, the UI should provide immediate feedback on user actions to confirm that inputs have been registered. A comprehensive 'README' document is also required, detailing installation steps, usage instructions, troubleshooting tips, and examples to guide users through the system's functionalities.\n",
    "\n",
    "**Reliability:**\n",
    "Regarding reliability, the system must ensure accurate and consistent performance under all expected conditions. This involves providing clear and informative error messages when issues arise, allowing users to understand and rectify problems without confusion. The system should implement mechanisms to ensure data integrity, such as validation checks and backup procedures, to prevent data loss or corruption. Regular testing and maintenance schedules should be established to identify and address potential issues promptly, ensuring the system remains dependable over time.\n"
   ]
  },
  {
   "cell_type": "markdown",
   "metadata": {},
   "source": [
    "# **Researching and Planning**"
   ]
  },
  {
   "cell_type": "markdown",
   "metadata": {},
   "source": [
    "### **Research of Chosen Issue**\n",
    "**Purpose:** The purpose of analysing this data is to see if the height of an NBA player correlates with their points scored per game, and if skill is or isn't more important than genetics.\n",
    "\n",
    "**Missing Data:** I feel it is necessary for people to conclude whether height correlates to performance (genetics vs skill).\n",
    "\n",
    "**Stakeholders:** The people that will benefit from the information include people who are tall or short, people who play basketball, and  people with high skill or good genetics.\n",
    "\n",
    "**Use:** The information obtained from the data analysis can be used by people to conclude that height does or doesn't correlate to performance (points per game), which then they  realise skill is or isn't more important than genetics.\n"
   ]
  },
  {
   "cell_type": "markdown",
   "metadata": {},
   "source": [
    "### **Privacy and Security**\n",
    "**Data Privacy of Source:** The data is NBA Players from 1996 to 2022 season found on kaggle.com. Kaggle is a public website related to coding, where you find datasets, discussions, code and learning materials as well as competitions. Kaggle and other websites/companies have responsibilities to protect user data and privacy by anonymising personal data and securing data storage.\n",
    "\n",
    "**Application Data Privacy:** My responsibilities as a data analyst is to maintain user privacy by keeping personal data secure and private. This data is identifiable, as it is available on Kaggle. If I were to push this application out to the general public, I would hide any personal information from the database.\n",
    "\n",
    "**Cyber Security:** Features that should be included to maintain cybersecurity include password systems, 2-factor authentication. There should also be a secure data storage, so data doesn't get leaked or compromised.\n",
    "\n",
    "* **User Authentication:** A security process that verifies the identity of a user who wants to access a device or network.\n",
    "* **Password Hashing:** A method of protecting passwords by converting them into a series of random characters, also known as a hash.\n",
    "* **Encryption:** The process of converting information or data into a code, especially to prevent unauthorised access.\n"
   ]
  },
  {
   "cell_type": "markdown",
   "metadata": {},
   "source": [
    "### **Data Dictionary**\n",
    "\n",
    "|Field|Datatype|Format for Display|Description|Example|Validation|\n",
    "|-----|--------|------------------|-----------|-------|----------|\n",
    "|player_name|object|X...X|Name of the player|Stephen Curry|Can be any amount of characters but must not include numbers.|\n",
    "|player_height|float64|NNN.NN|Height of the player (in centimeters)|190.5|Must be a decimal number to 2 decimal places.|\n",
    "|pts|float64|NN.N|Average number of points scored|30.1|Must be a decimal number to 1 decimal place.|\n",
    "\n",
    "\n",
    "\n"
   ]
  },
  {
   "cell_type": "markdown",
   "metadata": {},
   "source": [
    "# **Testing and Evaluating**"
   ]
  },
  {
   "attachments": {
    "Figure_1.png": {
     "image/png": "[encoded data removed]"
    }
   },
   "cell_type": "markdown",
   "metadata": {},
   "source": [
    "### **Analyse and Conclude**\n",
    "* **Data Visualisation:**\n",
    "\n",
    "![Figure_1.png](attachment:Figure_1.png)\n",
    "* **Calculations:** The calculations done in this data analysis are the average height and points per game of NBA players. They are accurate because I used a function to calculate the averages.\n",
    "* **Accuracy:** Yes, the information is accurate, because it is sourced from a source on a reliable online website.\n",
    "* **Conclusions:** The conclusions conclude that the best height for performance is about 196cm, and the worst performance is 227cm. The minimum height is about 160cm, and maximum height is about 231cm. The information gathered from this data analysis can be useful for basketball scouts or people who want to join the NBA."
   ]
  },
  {
   "cell_type": "markdown",
   "metadata": {},
   "source": [
    "### **Peer Evaluation**\n",
    "**Eric:** Shawn has included most of all the functional and non-functional requirements in his program. But, it lacks a very comprehensive README file, which can confuse users that don't know what to do, as the README file would provide context. Shawn's Matplotlib chart isn't very visually pleasing as it was clunky and hard to read. Despite this, it still provides insight into how height affects player ability in basketball. Making it an all round useful tool. \n",
    "\n",
    "**Soham:** Shawn's code is very sophisticated and provides most of the relevant information required such as the functional and non-functional requirements. However, some of these requirements could be further improved such as data loading, and the addition of data reporting and a more in-depth README file would be pleasant to see within Shawn's files for a positive user experience. For the non-functional requirements, the reliability could also be improved by testing the visualisation function within Shawn's program further since I wouldve liked to see a dot plot instead of a line graph since the matplotlib chart seems clunky and unneat. To further emphasise the need for improvement within his charts, Shawn could've added a y label to explain what unit that side is measuring.\n",
    "\n",
    "**Reflection on Feedback:** "
   ]
  },
  {
   "cell_type": "markdown",
   "metadata": {},
   "source": [
    "### **Evaluation of Final Product**\n",
    "**Functional Requirements:**\n",
    "* Data Loading: I've met the requirements of data loading. This is evident as the program can handle various file types as while as handle errors for incorrect format or missing files. Resulting in easy debugging and convertability/compatibility for other file types. However, there is still room to improve as sometimes the files don't load because they are in a bigger folder.\n",
    "\n",
    "* Data Cleaning: The program manages to meet the requirements of data cleaning. This is seen in the code as it filters the data needed, and sorts the players' heights from shortest to tallest. Resulting in cleaner dataframes with all needed values, and sorted dataframes to keep it neat. Overall, this program fully fulfills the requirements of data cleaning.\n",
    "\n",
    "* Data Analysis: This program meets the requirements of data analysis as the program calculates the mean for both the heights and points per game for NBA players. Resulting in a average which then we can use to conclude the average height and points per game for NBA players. So, this program does fufill all the requirements of data analysis, but could benefit from more statistical analyses.\n",
    "\n",
    "* Data Visualisation: The program does meet the requirements for data visualisation as it includes how the data needs to be/is visualised. This is evident in my program as it implements the use of both pandas dataframes and matplotlib chart types. I have specified the visualisation parameters for the Matplotlib chart. Resulting in a nice visualisation of the data/information gathered from this dataframe, and also provides more information. This requirement is fully fulfilled in my program.\n",
    "\n",
    "* Data Reporting: Data reporting is a functional requirement that isn't fulfilled by my program. This is because I didn't add a function to store the final dataset somewhere else. This resulted in the lack of a save/backup file of the final dataset. The addition of data reporting could make it easier for users to store the final dataset if they ever want to keep it. Next time, I should add this in to make it more convenient and easier to use.\n",
    "\n",
    "**Non-Functional Requirements:**\n",
    "* Usability: Usability is a non-functional requirement met by my code in this program, as my code is intuitive and easy to navigate ensuring that users can perform their tasks with minimal effort. Additionally, my UI provides immediate feedback on user actions as well. But, my program lacks a comprehensive README document that provides important information about the program. Resulting in the user lacking the context to understand what to do. Overall, usability is mostly met, but an in-depth README document should be considered next time.\n",
    "\n",
    "* Reliability: Regarding the non-functional requirement, reliability, my program does do well. This is evident in the program as clear and informative error messages are provided when errors arise. But most of the time this problem isn't encountered. Mechanisms to ensure data integrity such as validation checks and backup procedures aren't implemented in my program, which is something I should consider to preven data loss or corruption."
   ]
  },
  {
   "cell_type": "markdown",
   "metadata": {},
   "source": [
    "### **Project Evaluation**\n",
    "My time management had it's ups and downs. At the beginning I was a bit ahead on the theory, then some other things made me fall behind. But eventually, I worked harder to catch up again, resulting in me on par with what others were doing again. Overall, time management on this project was inconsistent, but in the end it wasn't much of a problem.\n",
    "\n",
    "In this project I had to conduct both rigorous problem solving and testing ever since the beginning. The first challenge I faced was how I was going to compare height to points per game. Then I figured it out, comparing it on a graph to see which heights have better performance. Also, another problem I faced was with the Matplotlib chart types. I couldn't figure out which one fit best, until I tested them all. This resulted in the line as a good fit. So, most of my problems met in this task were overcome as a result of my hard work.\n",
    "\n",
    "Overall, I put a good amount of effort into this task with all the theory work, problem solving, and testing."
   ]
  }
 ],
 "metadata": {
  "kernelspec": {
   "display_name": "Python 3",
   "language": "python",
   "name": "python3"
  },
  "language_info": {
   "name": "python",
   "version": "3.11.0"
  }
 },
 "nbformat": 4,
 "nbformat_minor": 2
}
